{
 "cells": [
  {
   "cell_type": "code",
   "execution_count": 1,
   "metadata": {},
   "outputs": [],
   "source": [
    "import numpy as np\n",
    "from fFunc import Ffunc\n",
    "from gFunc import Gfunc\n",
    "from astropy.constants import G, M_sun\n",
    "from scipy.integrate import quad\n",
    "import astropy.units as u\n",
    "from scipy.optimize import curve_fit"
   ]
  },
  {
   "cell_type": "code",
   "execution_count": 7,
   "metadata": {},
   "outputs": [],
   "source": [
    "#All distances are in kpc, all masses in Msun units. \n",
    "class ModelVelocity(object):\n",
    "\n",
    "    def __init__(self, n, Mbulge, re_bulge, Mbh, sigma_B, r_in, r_out, g_func, f_func=None):\n",
    "\n",
    "        #Save the input parameters.\n",
    "        self.n = n\n",
    "        self.Mbulge = Mbulge\n",
    "        self.re_bulge = re_bulge\n",
    "        self.Mbh = Mbh\n",
    "        self.sigma_B = sigma_B\n",
    "        self.r_in = r_in\n",
    "        self.r_out = r_out\n",
    "        self.g_func = g_func\n",
    "\n",
    "        #Start the the f and g function objects.\n",
    "        if f_func is None:\n",
    "            self.f_func = Ffunc(sigma_B, r_in, r_out)\n",
    "        else:\n",
    "            self.f_func = f_func\n",
    "\n",
    "        #Get the convenience constant Ie\n",
    "        g_func_rnorm_max = g_func.rnorm_max\n",
    "        self.Ie_bulge = Mbulge/g_func.g_interp((n,g_func_rnorm_max))\n",
    "\n",
    "        #Save the bn value for n=1/2 (gaussian), which we need for the light profile. \n",
    "        self.b_gaussian = g_func.b_n(0.5)\n",
    "\n",
    "        #Constant with the right units for getting sigma. \n",
    "        self.K = (((2./3.) * G * M_sun/(1.*u.kpc))**0.5).to(u.km/u.s).value\n",
    "\n",
    "        return\n",
    "    \n",
    "    def sigma(self, r):\n",
    "\n",
    "        rnorm = r/self.re_bulge\n",
    "        host_mass = self.Ie_bulge * self.g_func.g_interp((self.n, rnorm))\n",
    "        return self.K * ((self.Mbh+host_mass)/r)**0.5\n",
    "\n",
    "    def Iv(self, v):\n",
    "    \n",
    "        func = lambda x: np.exp(-self.b_gaussian*x**2-0.5*(v/self.sigma(x))**2) * self.f_func.f_interp(x)*x\n",
    "\n",
    "        return quad(func, 0., 5., epsrel=1e-3)[0]\n",
    "    \n",
    "    def Iv_nosmearing(self, v):\n",
    "    \n",
    "        func = lambda x: np.exp(-self.b_gaussian*x**2-0.5*(v/self.sigma(x))**2)\n",
    "\n",
    "        return quad(func, self.r_in, self.r_out)[0]\n"
   ]
  },
  {
   "cell_type": "code",
   "execution_count": 3,
   "metadata": {},
   "outputs": [],
   "source": [
    "g_func = Gfunc()\n",
    "n = 4\n",
    "Mbulge = 5e10\n",
    "re_bulge = 0.8\n",
    "Mbh = 1e10\n",
    "sigma_B = 0.5\n",
    "r_in = 0.\n",
    "r_out = 0.5\n",
    "modelv = ModelVelocity(n, Mbulge, re_bulge, Mbh, sigma_B, r_in, r_out, g_func)"
   ]
  },
  {
   "cell_type": "code",
   "execution_count": 4,
   "metadata": {},
   "outputs": [],
   "source": [
    "vs = np.arange(-2000, 2000, 100)\n",
    "Ivs = np.zeros(vs.shape)\n",
    "for i, v in enumerate(vs):\n",
    "    Ivs[i] = modelv.Iv(v)\n"
   ]
  },
  {
   "cell_type": "code",
   "execution_count": null,
   "metadata": {},
   "outputs": [],
   "source": [
    "Ivs_nsm = np.zeros(vs.shape)\n",
    "for i, v in enumerate(vs):\n",
    "    Ivs_nsm[i] = modelv.Iv_nosmearing(v)"
   ]
  },
  {
   "cell_type": "code",
   "execution_count": null,
   "metadata": {},
   "outputs": [],
   "source": [
    "import matplotlib.pyplot as plt\n",
    "plt.plot(vs, Ivs)\n",
    "plt.plot(vs, Ivs_nsm * np.max(Ivs)/np.max(Ivs_nsm))"
   ]
  },
  {
   "cell_type": "code",
   "execution_count": 3,
   "metadata": {},
   "outputs": [],
   "source": [
    "def gauss(x, *p):\n",
    "    A, sigma = p\n",
    "    return A*np.exp(-x**2/(2.*sigma**2))"
   ]
  },
  {
   "cell_type": "code",
   "execution_count": null,
   "metadata": {},
   "outputs": [],
   "source": [
    "p0 = [0.1, 300.]\n",
    "coeff, var_matrix = curve_fit(gauss, vs, Ivs, p0=p0)\n",
    "print(coeff[1])\n",
    "coeff, var_matrix = curve_fit(gauss, vs, Ivs_nsm, p0=p0)\n",
    "print(coeff[1])"
   ]
  },
  {
   "cell_type": "code",
   "execution_count": null,
   "metadata": {},
   "outputs": [],
   "source": [
    "vs = np.arange(0, 2000, 100)\n",
    "Ivs = np.zeros(vs.shape)\n",
    "for i, v in enumerate(vs):\n",
    "    Ivs[i] = modelv.Iv(v)\n",
    "p0 = [0.1, 300.]\n",
    "coeff, var_matrix = curve_fit(gauss, vs, Ivs, p0=p0)\n",
    "print(coeff[1])"
   ]
  },
  {
   "cell_type": "code",
   "execution_count": null,
   "metadata": {},
   "outputs": [],
   "source": [
    "Ivs_nsm = np.zeros(vs.shape)\n",
    "for i, v in enumerate(vs):\n",
    "    Ivs_nsm[i] = modelv.Iv_nosmearing(v)"
   ]
  },
  {
   "cell_type": "code",
   "execution_count": null,
   "metadata": {},
   "outputs": [],
   "source": [
    "p0 = [0.1, 300.]\n",
    "coeff, var_matrix = curve_fit(gauss, vs, Ivs, p0=p0)\n",
    "print(coeff[1])\n",
    "coeff, var_matrix = curve_fit(gauss, vs, Ivs_nsm, p0=p0)\n",
    "print(coeff[1])"
   ]
  },
  {
   "cell_type": "code",
   "execution_count": 4,
   "metadata": {},
   "outputs": [],
   "source": [
    "g_func = Gfunc()\n",
    "n = 4\n",
    "Mbulge = 5e10\n",
    "re_bulge = 0.8\n",
    "Mbh = 1e10"
   ]
  },
  {
   "cell_type": "code",
   "execution_count": 11,
   "metadata": {},
   "outputs": [],
   "source": [
    "sigma_B = 0.5\n",
    "r_ins = [0., 0.5, 1.0, 1.5]\n",
    "r_outs = [0.5, 1.0, 1.5, 2.0]\n",
    "f_funcs = [None]*len(r_outs)\n",
    "for i in range(len(r_ins)):\n",
    "    f_funcs[i] = Ffunc(sigma_B, r_ins[i], r_outs[i])"
   ]
  },
  {
   "cell_type": "code",
   "execution_count": 14,
   "metadata": {},
   "outputs": [
    {
     "name": "stderr",
     "output_type": "stream",
     "text": [
      "/var/folders/p7/drxzchtj4yb641v79lt0tjyh0000gn/T/ipykernel_81871/1972671258.py:44: IntegrationWarning: The integral is probably divergent, or slowly convergent.\n",
      "  return quad(func, 0., 5., epsrel=1e-3)[0]\n"
     ]
    },
    {
     "name": "stdout",
     "output_type": "stream",
     "text": [
      "396.91934691770973\n",
      "363.10576484362326\n",
      "330.5938364444454\n",
      "303.0216462782406\n"
     ]
    }
   ],
   "source": [
    "for i in range(len(r_ins)):\n",
    "    r_in = r_ins[i]\n",
    "    r_out = r_outs[i]\n",
    "    modelv = ModelVelocity(n, Mbulge, re_bulge, Mbh, sigma_B, r_in, r_out, g_func, f_func=f_funcs[i])\n",
    "\n",
    "    vs = np.arange(0, 20000, 100)\n",
    "    Ivs = np.zeros(vs.shape)\n",
    "    for i, v in enumerate(vs):\n",
    "        Ivs[i] = modelv.Iv(v)\n",
    "    p0 = [0.1, 300.]\n",
    "    coeff, var_matrix = curve_fit(gauss, vs, Ivs, p0=p0)\n",
    "    print(coeff[1])"
   ]
  }
 ],
 "metadata": {
  "kernelspec": {
   "display_name": "stenv",
   "language": "python",
   "name": "python3"
  },
  "language_info": {
   "codemirror_mode": {
    "name": "ipython",
    "version": 3
   },
   "file_extension": ".py",
   "mimetype": "text/x-python",
   "name": "python",
   "nbconvert_exporter": "python",
   "pygments_lexer": "ipython3",
   "version": "3.11.3"
  }
 },
 "nbformat": 4,
 "nbformat_minor": 2
}
