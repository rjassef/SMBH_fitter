{
 "cells": [
  {
   "cell_type": "code",
   "execution_count": 1,
   "metadata": {},
   "outputs": [],
   "source": [
    "import numpy as np \n",
    "from modelVelocityv2 import ModelVelocity\n",
    "from logProb import log_probv2"
   ]
  },
  {
   "cell_type": "code",
   "execution_count": 2,
   "metadata": {},
   "outputs": [],
   "source": [
    "n = 4.0\n",
    "Mbulge = 1e10\n",
    "re_bulge = 1.0\n",
    "Mbh = 5e9"
   ]
  },
  {
   "cell_type": "code",
   "execution_count": 3,
   "metadata": {},
   "outputs": [],
   "source": [
    "#Read the measurements. \n",
    "data = np.loadtxt(\"data.dat\")\n",
    "sigma_obs = data[:,0]\n",
    "sigma_obs_err = data[:,1]\n",
    "r_ins = data[:,2]\n",
    "r_outs = data[:,3]\n",
    "sigma_Bs = data[:,4]"
   ]
  },
  {
   "cell_type": "code",
   "execution_count": 4,
   "metadata": {},
   "outputs": [],
   "source": [
    "modelv = ModelVelocity(sigma_Bs, r_ins, r_outs)"
   ]
  },
  {
   "cell_type": "code",
   "execution_count": 5,
   "metadata": {},
   "outputs": [],
   "source": [
    "modelv.set_params(n, Mbulge, re_bulge, Mbh)"
   ]
  },
  {
   "cell_type": "code",
   "execution_count": 14,
   "metadata": {},
   "outputs": [
    {
     "data": {
      "text/plain": [
       "array([258.7245935 , 235.51522791, 199.60926538, 185.45113831,\n",
       "       173.23999595, 163.07325474])"
      ]
     },
     "execution_count": 14,
     "metadata": {},
     "output_type": "execute_result"
    }
   ],
   "source": [
    "modelv.model_sigmas(vmin=0., vmax=15000., dv=100.)"
   ]
  },
  {
   "cell_type": "code",
   "execution_count": 15,
   "metadata": {},
   "outputs": [
    {
     "data": {
      "text/plain": [
       "array([259.60628578, 236.24264044, 200.20508674, 185.90296696,\n",
       "       173.57086831, 163.31626452])"
      ]
     },
     "execution_count": 15,
     "metadata": {},
     "output_type": "execute_result"
    }
   ],
   "source": [
    "modelv.model_sigmas(vmin=-15000., vmax=15000., dv=100.)"
   ]
  }
 ],
 "metadata": {
  "kernelspec": {
   "display_name": "stenv",
   "language": "python",
   "name": "python3"
  },
  "language_info": {
   "codemirror_mode": {
    "name": "ipython",
    "version": 3
   },
   "file_extension": ".py",
   "mimetype": "text/x-python",
   "name": "python",
   "nbconvert_exporter": "python",
   "pygments_lexer": "ipython3",
   "version": "3.11.3"
  }
 },
 "nbformat": 4,
 "nbformat_minor": 2
}
